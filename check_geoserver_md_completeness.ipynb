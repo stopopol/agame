{
 "cells": [
  {
   "cell_type": "code",
   "execution_count": null,
   "id": "f448fe6e-a959-4d71-a5a7-b6c461c3db44",
   "metadata": {},
   "outputs": [],
   "source": [
    "# this script checks the geoserver with the AGAME data layers for their completeness\n",
    "# requires the geoserver wms getcapabilities file to be in the same folder \n",
    "\n",
    "!pip install xmltodict\n",
    "import xmltodict\n",
    "\n",
    "with open('getcapabilities_1.3.0.xml') as fd:\n",
    "    doc = xmltodict.parse(fd.read())\n",
    "\n",
    "for layer in doc['WMS_Capabilities']['Capability']['Layer']['Layer']:\n",
    "\n",
    "    check_time = False\n",
    "    check_site = False\n",
    "    check_doi = False\n",
    "    check_variable = False\n",
    "    check_project = False\n",
    "    check_id = False\n",
    "\n",
    "    # check keywords\n",
    "    for keyword in layer['KeywordList']['Keyword']:\n",
    "        if \"time:\" in keyword:\n",
    "            check_time = True\n",
    "        if \"site:\" in keyword:\n",
    "            check_site = True\n",
    "        if \"https://doi.org\" in keyword:\n",
    "            check_doi = True\n",
    "        if \"variable:\" in keyword:\n",
    "            check_variable = True\n",
    "        if \"project:\" in keyword:\n",
    "            check_project = True\n",
    "        if \"id:\" in keyword:\n",
    "            check_id = True\n",
    "\n",
    "    if check_time is False:\n",
    "        print(layer['Name'] + ' missing time')\n",
    "    if check_site is False:\n",
    "        print(layer['Name'] + ' missing site')\n",
    "    if check_doi is False:\n",
    "        print(layer['Name'] + ' missing doi')\n",
    "    if check_variable is False:\n",
    "        print(layer['Name'] + ' missing variable')\n",
    "    if check_project is False:\n",
    "        print(layer['Name'] + ' missing project')\n",
    "    if check_id is False:\n",
    "        print(layer['Name'] + ' missing id')"
   ]
  }
 ],
 "metadata": {
  "kernelspec": {
   "display_name": "Python 3 (ipykernel)",
   "language": "python",
   "name": "python3"
  },
  "language_info": {
   "codemirror_mode": {
    "name": "ipython",
    "version": 3
   },
   "file_extension": ".py",
   "mimetype": "text/x-python",
   "name": "python",
   "nbconvert_exporter": "python",
   "pygments_lexer": "ipython3",
   "version": "3.10.8"
  }
 },
 "nbformat": 4,
 "nbformat_minor": 5
}
